{
 "cells": [
  {
   "cell_type": "code",
   "execution_count": null,
   "metadata": {},
   "outputs": [],
   "source": [
    "# 引入opencv\n",
    "import cv2\n",
    "#读取名为image0.jpg的图片，第二个参数为0时打开为黑白图，为1时表示彩图\n",
    "img = cv2.imread('image0.jpg',0) \n",
    "#显示图片 第一个参数给显示的图片加个name 第二个参数需要显示的图片参数\n",
    "cv2.imshow('image',img)\n",
    "#暂停程序显示图片\n",
    "cv2.waitKey(0)"
   ]
  },
  {
   "cell_type": "code",
   "execution_count": null,
   "metadata": {},
   "outputs": [],
   "source": []
  }
 ],
 "metadata": {
  "kernelspec": {
   "display_name": "Python 3",
   "language": "python",
   "name": "python3"
  },
  "language_info": {
   "codemirror_mode": {
    "name": "ipython",
    "version": 3
   },
   "file_extension": ".py",
   "mimetype": "text/x-python",
   "name": "python",
   "nbconvert_exporter": "python",
   "pygments_lexer": "ipython3",
   "version": "3.6.8"
  }
 },
 "nbformat": 4,
 "nbformat_minor": 2
}
