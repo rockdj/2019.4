{
 "cells": [
  {
   "cell_type": "code",
   "execution_count": 1,
   "metadata": {},
   "outputs": [],
   "source": [
    "import cv2"
   ]
  },
  {
   "cell_type": "code",
   "execution_count": 2,
   "metadata": {},
   "outputs": [
    {
     "name": "stdout",
     "output_type": "stream",
     "text": [
      "(820, 580, 3)\n"
     ]
    }
   ],
   "source": [
    "#读取图片\n",
    "img = cv2.imread('image0.jpg',1)\n",
    "#获取图片信息 高 宽 通道数\n",
    "imgInfo = img.shape\n",
    "print(imgInfo)\n",
    "height= imgInfo[0]\n",
    "width = imgInfo[1]\n",
    "channel = imgInfo[2]\n",
    "\n",
    "#图片的缩放有 等比例缩放 和 非等比例缩放 （比例指图片的宽高比例）\n",
    "dstHeight = int(height*0.5)\n",
    "dstWidth = int(width*0.5)  \n",
    "#最近邻域插值 双线性插值 像素关系重采样 立方插值(默认使用双线性插值)\n",
    "dst1 = cv2.resize(img,(dstWidth, dstHeight))\n",
    "cv2.imshow('dst1',dst1)"
   ]
  },
  {
   "cell_type": "code",
   "execution_count": null,
   "metadata": {},
   "outputs": [
    {
     "name": "stdout",
     "output_type": "stream",
     "text": [
      "1\n"
     ]
    }
   ],
   "source": [
    "#图片剪切\n",
    "print('1')\n",
    "dst2 = img[20:500,60:440]\n",
    "cv2.imshow('dst2',dst2)\n",
    "cv2.waitKey(0)"
   ]
  },
  {
   "cell_type": "code",
   "execution_count": null,
   "metadata": {},
   "outputs": [],
   "source": []
  }
 ],
 "metadata": {
  "kernelspec": {
   "display_name": "Python 3",
   "language": "python",
   "name": "python3"
  },
  "language_info": {
   "codemirror_mode": {
    "name": "ipython",
    "version": 3
   },
   "file_extension": ".py",
   "mimetype": "text/x-python",
   "name": "python",
   "nbconvert_exporter": "python",
   "pygments_lexer": "ipython3",
   "version": "3.6.8"
  }
 },
 "nbformat": 4,
 "nbformat_minor": 2
}
