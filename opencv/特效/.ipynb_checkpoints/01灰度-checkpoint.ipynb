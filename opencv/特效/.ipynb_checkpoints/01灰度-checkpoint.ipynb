{
 "cells": [
  {
   "cell_type": "code",
   "execution_count": null,
   "metadata": {},
   "outputs": [
    {
     "name": "stdout",
     "output_type": "stream",
     "text": [
      "(600, 800) (600, 800, 3)\n"
     ]
    }
   ],
   "source": [
    "#方法1 imread\n",
    "import cv2\n",
    "\n",
    "img0 = cv2.imread('img1.jpg',0)\n",
    "img1 = cv2.imread('img1.jpg',1)\n",
    "print(dst0.shape,dst1.shape)\n",
    "cv2.imshow('dst1',dst1)\n",
    "cv2.imshow('dst0',dst0)\n",
    "cv2.waitKey(0)\n"
   ]
  },
  {
   "cell_type": "code",
   "execution_count": null,
   "metadata": {},
   "outputs": [],
   "source": [
    "#方法2 cvtColor\n",
    "import cv2\n",
    "img1 = cv2.imread('img1.jpg',1)\n",
    "dst1 = cv2.cvtColor(img1,cv2.COLOR_BGR2GRAY)# 1.要转换的图片 2.转换的方式（此处为bgr2gray）\n",
    "cv2.imshow('dst1',dst1)\n",
    "cv2.waitKey(0)\n"
   ]
  },
  {
   "cell_type": "code",
   "execution_count": null,
   "metadata": {},
   "outputs": [],
   "source": [
    "#方法3 bgr三通道的值取均值\n",
    "import cv2\n",
    "import numpy as np\n",
    "img1 = cv2.imread('img1.jpg',1)\n",
    "imgInfo = img1.shape\n",
    "height = imgInfo[0]\n",
    "width = imgInfo[1]\n",
    "channel = imgInfo[2]\n",
    "\n",
    "dst = np.zeros((height,width,3),np.uint8)\n",
    "for i in range(height):\n",
    "    for j in range(width):\n",
    "        (b,g,r) = img1[i,j]\n",
    "        gray = (int(b)+int(g)+int(r))/3\n",
    "        dst[i,j] = np.uint8(gray)\n",
    "cv2.imshow('dst',dst)\n",
    "cv2.waitKey(0)"
   ]
  },
  {
   "cell_type": "code",
   "execution_count": null,
   "metadata": {},
   "outputs": [],
   "source": [
    "#方法4 rgb计算公式 r*0.299+g*0.587+b*0.114"
   ]
  },
  {
   "cell_type": "code",
   "execution_count": null,
   "metadata": {},
   "outputs": [],
   "source": []
  }
 ],
 "metadata": {
  "kernelspec": {
   "display_name": "Python 3",
   "language": "python",
   "name": "python3"
  },
  "language_info": {
   "codemirror_mode": {
    "name": "ipython",
    "version": 3
   },
   "file_extension": ".py",
   "mimetype": "text/x-python",
   "name": "python",
   "nbconvert_exporter": "python",
   "pygments_lexer": "ipython3",
   "version": "3.6.8"
  }
 },
 "nbformat": 4,
 "nbformat_minor": 2
}
