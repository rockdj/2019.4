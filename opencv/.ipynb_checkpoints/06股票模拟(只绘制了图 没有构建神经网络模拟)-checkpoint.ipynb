{
 "cells": [
  {
   "cell_type": "code",
   "execution_count": 1,
   "metadata": {},
   "outputs": [],
   "source": [
    "import numpy as np\n",
    "import matplotlib as mpl\n",
    "mpl.use('TKAgg')\n",
    "from matplotlib import pyplot as plt\n",
    "import tensorflow as tf\n",
    "#np.linspace等差数列 从数字1到15 生成一个共有15个数值的等差数列即1，2，3，4。。。15／ 这里用来表示日期\n",
    "date = np.linspace(1,15,15)\n",
    "\n",
    "endPrice = np.array([2511.9, 2538.26, 2510.68, 2591.66, 2732.98, 2701.69, 2701.29, 2678.67, 2726.5,\n",
    "                      2681.5, 2739.17, 2715.07, 2823.58, 2864.9, 2919.08])\n",
    "beginPrice = np.array([2438.71, 2500.88, 2534.95, 2512.52, 2594.04, 2743.26, 2697.47, 2695.24, 2678.23,\n",
    "                       2722.13, 2674.93, 2744.13, 2717.46, 2832.73, 2877.4])\n",
    "\n",
    "plt.figure()\n",
    "for i in range(15):\n",
    "#股票柱状图 实际用plot折线图方法完成 横坐标起点和终点相同（即为同一天）纵坐标两端分别表示开盘价和收盘价\n",
    "    data1 = np.zeros([2])\n",
    "    data1[0] = i\n",
    "    data1[1] = i\n",
    "    price1 = np.zeros([2])\n",
    "    price1[0] = beginPrice[i]\n",
    "    price1[1] = endPrice[i]\n",
    "#如果收盘价>开盘价则为红色，反之为绿色\n",
    "    if endPrice[i]>beginPrice[i]:\n",
    "        plt.plot(data1,price1,'r',lw = 5)\n",
    "    else:\n",
    "        plt.plot(data1,price1,'g',lw = 5)\n",
    "plt.show()\n"
   ]
  },
  {
   "cell_type": "code",
   "execution_count": null,
   "metadata": {},
   "outputs": [],
   "source": []
  }
 ],
 "metadata": {
  "kernelspec": {
   "display_name": "Python 3",
   "language": "python",
   "name": "python3"
  },
  "language_info": {
   "codemirror_mode": {
    "name": "ipython",
    "version": 3
   },
   "file_extension": ".py",
   "mimetype": "text/x-python",
   "name": "python",
   "nbconvert_exporter": "python",
   "pygments_lexer": "ipython3",
   "version": "3.6.8"
  }
 },
 "nbformat": 4,
 "nbformat_minor": 2
}
