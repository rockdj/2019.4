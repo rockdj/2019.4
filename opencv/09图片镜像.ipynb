{
 "cells": [
  {
   "cell_type": "code",
   "execution_count": 1,
   "metadata": {},
   "outputs": [],
   "source": [
    "import cv2\n",
    "import numpy as np"
   ]
  },
  {
   "cell_type": "code",
   "execution_count": null,
   "metadata": {},
   "outputs": [],
   "source": [
    "#读取图片\n",
    "img = cv2.imread('image0.jpg',1)\n",
    "cv2.imshow('origin',img)\n",
    "#获取图片信息 高 宽 通道\n",
    "imgInfo = img.shape\n",
    "height= imgInfo[0]\n",
    "width = imgInfo[1]\n",
    "channel = imgInfo[2]\n",
    "\n",
    "#镜像后的图片高度*2\n",
    "newImgInfo = (height*2,width,channel)\n",
    "dst= np.zeros(newImgInfo,np.uint8)\n",
    "\n",
    "for i in range(0,height):\n",
    "    for j in range(0,width):\n",
    "        dst[i,j]=img[i,j]#镜像图的上半部分与原图相同\n",
    "        dst[2*height-i-1,j] = img[i,j]#下半部分的计算\n",
    "#绘制一条分割线\n",
    "for i in range(0,width):\n",
    "    dst[height,i] = (0,0,255)#BGR\n",
    "cv2.imwrite('mirror.jpg',dst)\n",
    "cv2.imshow('mirror',dst)\n",
    "cv2.waitKey(0)"
   ]
  },
  {
   "cell_type": "code",
   "execution_count": null,
   "metadata": {},
   "outputs": [],
   "source": []
  }
 ],
 "metadata": {
  "kernelspec": {
   "display_name": "Python 3",
   "language": "python",
   "name": "python3"
  },
  "language_info": {
   "codemirror_mode": {
    "name": "ipython",
    "version": 3
   },
   "file_extension": ".py",
   "mimetype": "text/x-python",
   "name": "python",
   "nbconvert_exporter": "python",
   "pygments_lexer": "ipython3",
   "version": "3.6.8"
  }
 },
 "nbformat": 4,
 "nbformat_minor": 2
}
