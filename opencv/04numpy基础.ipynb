{
 "cells": [
  {
   "cell_type": "code",
   "execution_count": 1,
   "metadata": {},
   "outputs": [],
   "source": [
    "import numpy as np"
   ]
  },
  {
   "cell_type": "code",
   "execution_count": 17,
   "metadata": {},
   "outputs": [
    {
     "name": "stdout",
     "output_type": "stream",
     "text": [
      "[1 2 3 4 5]\n",
      "[[1 2]\n",
      " [3 4]\n",
      " [5 6]]\n",
      "(3, 2)\n",
      "[[0. 0.]\n",
      " [0. 0.]] [[1. 1. 1.]\n",
      " [1. 1. 1.]\n",
      " [1. 1. 1.]]\n",
      "[[ 1  2]\n",
      " [10  4]\n",
      " [ 5  6]]\n",
      "[[2. 2. 2.]\n",
      " [2. 2. 2.]]\n",
      "[[2. 3. 4.]\n",
      " [5. 6. 7.]]\n",
      "[[1. 2. 3.]\n",
      " [4. 5. 6.]]\n"
     ]
    }
   ],
   "source": [
    "data1 = np.array([1,2,3,4,5])\n",
    "print(data1)\n",
    "\n",
    "data2 = np.array([[1,2],[3,4],[5,6]])\n",
    "print(data2)\n",
    "print(data2.shape)\n",
    "#单位矩阵和空矩阵\n",
    "print(np.zeros([2,2]),np.ones([3,3]))\n",
    "\n",
    "\n",
    "#修改矩阵内容\n",
    "data2[1,0] = 10\n",
    "print(data2)\n",
    "\n",
    "#常量基本运算+-*/\n",
    "data3 = np.ones([2,3])\n",
    "print(data3*2)\n",
    "\n",
    "#矩阵运算\n",
    "data4 = np.array([[1,2,3],[4,5,6]])\n",
    "print(data3+data4)\n",
    "print(data3*data4)\n"
   ]
  },
  {
   "cell_type": "code",
   "execution_count": null,
   "metadata": {},
   "outputs": [],
   "source": []
  }
 ],
 "metadata": {
  "kernelspec": {
   "display_name": "Python 3",
   "language": "python",
   "name": "python3"
  },
  "language_info": {
   "codemirror_mode": {
    "name": "ipython",
    "version": 3
   },
   "file_extension": ".py",
   "mimetype": "text/x-python",
   "name": "python",
   "nbconvert_exporter": "python",
   "pygments_lexer": "ipython3",
   "version": "3.6.8"
  }
 },
 "nbformat": 4,
 "nbformat_minor": 2
}
