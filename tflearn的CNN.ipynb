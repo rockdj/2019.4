{
 "cells": [
  {
   "cell_type": "code",
   "execution_count": 1,
   "metadata": {},
   "outputs": [
    {
     "name": "stdout",
     "output_type": "stream",
     "text": [
      "WARNING:tensorflow:From /anaconda3/lib/python3.6/site-packages/tensorflow/python/framework/op_def_library.py:263: colocate_with (from tensorflow.python.framework.ops) is deprecated and will be removed in a future version.\n",
      "Instructions for updating:\n",
      "Colocations handled automatically by placer.\n"
     ]
    }
   ],
   "source": [
    "import tflearn\n",
    "from tflearn.layers.conv import conv_2d, max_pool_2d\n",
    "from tflearn.layers.core import input_data, dropout, fully_connected\n",
    "from tflearn.layers.estimator import regression\n",
    "import tensorflow as tf"
   ]
  },
  {
   "cell_type": "code",
   "execution_count": 2,
   "metadata": {},
   "outputs": [
    {
     "name": "stdout",
     "output_type": "stream",
     "text": [
      "Training Step: 8599  | total loss: \u001b[1m\u001b[32m0.23124\u001b[0m\u001b[0m | time: 196.898s\n",
      "| Adam | epoch: 010 | loss: 0.23124 - acc: 0.9860 -- iter: 54976/55000\n",
      "Training Step: 8600  | total loss: \u001b[1m\u001b[32m0.20878\u001b[0m\u001b[0m | time: 199.386s\n",
      "| Adam | epoch: 010 | loss: 0.20878 - acc: 0.9874 | val_loss: 0.04060 - val_acc: 0.9887 -- iter: 55000/55000\n",
      "--\n"
     ]
    }
   ],
   "source": [
    "#读取数据并reshape\n",
    "train_x, train_y, test_x, test_y = tflearn.datasets.mnist.load_data(one_hot=True)\n",
    " \n",
    "train_x = train_x.reshape(-1,28,28,1)\n",
    "test_x = test_x.reshape(-1,28,28,1)\n",
    "#tf.reset_default_graph函数用于清除默认图形堆栈并重置全局默认图形.  \n",
    "#注：在notebook中 要么每次运行前要重启kernel，要么加上这一行代码。否则会报list index out of range\n",
    "tf.reset_default_graph()\n",
    "# 定义卷积模型\n",
    "\n",
    "conv = input_data(shape =[None,28,28,1],name = 'input')\n",
    "conv = conv_2d(conv,filter_size=2,nb_filter=32,activation='relu') #32个 2x2的卷积核 即输出通道为32\n",
    "conv = max_pool_2d(conv,kernel_size=2,strides=2) \n",
    "conv = conv_2d(conv,filter_size=2, nb_filter=64,activation='relu')\n",
    "conv = max_pool_2d(conv,kernel_size=2,strides=2)\n",
    "conv = fully_connected(conv,n_units=1024,activation='relu')\n",
    "conv = dropout(conv,0.7)\n",
    "conv = fully_connected(conv,n_units=10,activation='softmax')\n",
    "conv = regression(conv, optimizer='adam', loss='categorical_crossentropy', name='output')\n",
    "\n",
    "#生成模型\n",
    "model = tflearn.DNN(conv,tensorboard_verbose=3, tensorboard_dir=\"logs\")\n",
    "#训练\n",
    "model.fit(train_x,train_y,n_epoch=10,validation_set=(test_x, test_y), \n",
    "          snapshot_step=500, show_metric=True, run_id='mnist')"
   ]
  },
  {
   "cell_type": "code",
   "execution_count": 3,
   "metadata": {},
   "outputs": [
    {
     "data": {
      "text/plain": [
       "'\\nTraining Step: 8599  | total loss: 0.00390 | time: 56.472s\\n| Adam | epoch: 010 | loss: 0.00390 - acc: 0.9983 -- iter: 54976/55000\\nTraining Step: 8600  | total loss: 0.00351 | time: 58.790s\\n| Adam | epoch: 010 | loss: 0.00351 - acc: 0.9985 | val_loss: 0.03842 - val_acc: 0.9907 -- iter: 55000/55000\\n--\\n'"
      ]
     },
     "execution_count": 3,
     "metadata": {},
     "output_type": "execute_result"
    }
   ],
   "source": [
    "'''\n",
    "Training Step: 8599  | total loss: 0.00390 | time: 56.472s\n",
    "| Adam | epoch: 010 | loss: 0.00390 - acc: 0.9983 -- iter: 54976/55000\n",
    "Training Step: 8600  | total loss: 0.00351 | time: 58.790s\n",
    "| Adam | epoch: 010 | loss: 0.00351 - acc: 0.9985 | val_loss: 0.03842 - val_acc: 0.9907 -- iter: 55000/55000\n",
    "--\n",
    "'''"
   ]
  }
 ],
 "metadata": {
  "kernelspec": {
   "display_name": "Python 3",
   "language": "python",
   "name": "python3"
  },
  "language_info": {
   "codemirror_mode": {
    "name": "ipython",
    "version": 3
   },
   "file_extension": ".py",
   "mimetype": "text/x-python",
   "name": "python",
   "nbconvert_exporter": "python",
   "pygments_lexer": "ipython3",
   "version": "3.6.5"
  }
 },
 "nbformat": 4,
 "nbformat_minor": 2
}
